{
 "cells": [
  {
   "cell_type": "code",
   "execution_count": 8,
   "metadata": {},
   "outputs": [
    {
     "name": "stdout",
     "output_type": "stream",
     "text": [
      "C:\\Users\\tianh\\Dropbox (GaTech)\\Python-Baseball\\stats\n",
      "[]\n"
     ]
    }
   ],
   "source": [
    "# %load data.py\n",
    "import os\n",
    "import glob\n",
    "import pandas as pd\n",
    "\n",
    "print(os.getcwd()) #C:\\Users\\tianh\\Dropbox (GaTech)\\Python-Baseball\\stats\n",
    "game_files = glob.glob(os.path.join(os.getcwd(), 'games', '*.EVE'))\n",
    "print(game_files)\n",
    "# game_files.sort()\n",
    "\n"
   ]
  },
  {
   "cell_type": "code",
   "execution_count": null,
   "metadata": {},
   "outputs": [],
   "source": [
    "game_frames =[]\n",
    "\n",
    "for game_file in game_files:\n",
    "    game_frame = pd.read_csv(game_file, name =['type', 'multi2', 'multi3', 'multi4','multi5', 'multi6', 'event'])\n",
    "    game_frames.append(game_frame)\n",
    "\n",
    "print(type(game_frames))\n",
    "print(game_frames)"
   ]
  },
  {
   "cell_type": "code",
   "execution_count": null,
   "metadata": {},
   "outputs": [],
   "source": [
    "games = pd.concat(game_frames)\n",
    "#8\n",
    "games.loc['??', ['multi5']] =\"\"\n",
    "#9\n",
    "identifiers = games['multi2'].str.extract(r'(.LS(\\d{4})\\d{5})')\n",
    "#10\n",
    "identifiers = identifiers.fillna(method='ffill')\n",
    "#11 rename colounms\n",
    "identifiers.rename(columns=['game_id', 'year'])\n",
    "#12 concatenate identifier columns\n",
    "games = pd.concat([games, identifiers], axis=1,sort=False)\n",
    "#13 fill NaN value\n",
    "games = games.fillna(' ')\n",
    "#14 Categorical Event Type\n",
    "games.loc[:, 'type'] = games.loc[:, 'type'].Categorical()\n",
    "# 15 print dataframe\n",
    "print(games.head(5))\n"
   ]
  },
  {
   "cell_type": "code",
   "execution_count": null,
   "metadata": {},
   "outputs": [],
   "source": []
  }
 ],
 "metadata": {
  "kernelspec": {
   "display_name": "Python 3",
   "language": "python",
   "name": "python3"
  },
  "language_info": {
   "codemirror_mode": {
    "name": "ipython",
    "version": 3
   },
   "file_extension": ".py",
   "mimetype": "text/x-python",
   "name": "python",
   "nbconvert_exporter": "python",
   "pygments_lexer": "ipython3",
   "version": "3.7.3"
  }
 },
 "nbformat": 4,
 "nbformat_minor": 2
}
